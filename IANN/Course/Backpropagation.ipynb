{
 "cells": [
  {
   "cell_type": "markdown",
   "metadata": {},
   "source": [
    "Given the following patterns\n",
    "\n",
    "$$P_1, t_1 = (2,7) , A $$\n",
    "$$P_2, t_2 = (3,9) , A $$\n",
    "$$P_3, t_3 = (4,4) , A $$\n",
    "$$P_4, t_4 = (6,11) , A $$\n",
    "$$P_5, t_5 = (7,4) , A $$\n",
    "$$P_6, t_6 = (5,7) , B $$\n",
    "$$P_7, t_7 = (8,9) , B $$\n",
    "$$P_8, t_8 = (8,6) , B $$\n",
    "$$P_9, t_9 = (10,9) , B $$\n",
    "$$P_{10}, t_{10} = (10,6) , B $$\n",
    "\n",
    "Train a neural network to classify correclty an input based on the training set using the backpropagation algorithm.\n"
   ]
  },
  {
   "cell_type": "code",
   "execution_count": 13,
   "metadata": {},
   "outputs": [],
   "source": [
    "%matplotlib inline\n",
    "import matplotlib.pyplot as plt\n",
    "plt.style.use('seaborn-whitegrid')"
   ]
  },
  {
   "cell_type": "code",
   "execution_count": 14,
   "metadata": {},
   "outputs": [
    {
     "name": "stdout",
     "output_type": "stream",
     "text": [
      "p: [[ 2.  7.]\n",
      " [ 3.  9.]\n",
      " [ 4.  4.]\n",
      " [ 6. 11.]\n",
      " [ 7.  4.]\n",
      " [ 5.  7.]\n",
      " [ 8.  9.]\n",
      " [ 8.  6.]\n",
      " [10.  9.]\n",
      " [10.  6.]]\n"
     ]
    }
   ],
   "source": [
    "import numpy as np\n",
    "\n",
    "#create input vector \n",
    "def createInputVector():\n",
    "    p[0] = [2,7];\n",
    "    p[1] = [3,9];\n",
    "    p[2] = [4,4];\n",
    "    p[3] = [6,11];\n",
    "    p[4] = [7,4];\n",
    "    p[5] = [5,7];\n",
    "    p[6] = [8,9];\n",
    "    p[7] = [8,6];\n",
    "    p[8] = [10,9];\n",
    "    p[9] = [10,6];\n",
    "    print(\"p:\",str(p));\n",
    "    \n",
    "p = np.zeros((10,2));\n",
    "createInputVector();"
   ]
  },
  {
   "cell_type": "code",
   "execution_count": 15,
   "metadata": {},
   "outputs": [
    {
     "name": "stdout",
     "output_type": "stream",
     "text": [
      "t: [1. 1. 1. 1. 1. 0. 0. 0. 0. 0.]\n"
     ]
    }
   ],
   "source": [
    "#create target vector A = 1 and B = 1 \n",
    "def createTargetVector():\n",
    "    t[0] = 1;\n",
    "    t[1] = 1;\n",
    "    t[2] = 1;\n",
    "    t[3] = 1;\n",
    "    t[4] = 1;\n",
    "    t[5] = 0;\n",
    "    t[6] = 0;\n",
    "    t[7] = 0;\n",
    "    t[8] = 0;\n",
    "    t[9] = 0;\n",
    "    print(\"t:\",str(t));\n",
    "    \n",
    "t = np.zeros(10);\n",
    "createTargetVector();"
   ]
  },
  {
   "cell_type": "code",
   "execution_count": 16,
   "metadata": {},
   "outputs": [],
   "source": [
    "# translate perceptron output\n",
    "def translatePerceptronOutput(p, output):\n",
    "    print(\"input: \", str(p), \"output: \", str(output));\n",
    "    if output > 0.5: \n",
    "        print(\"Classified as A\");\n",
    "    else:\n",
    "        print(\"Classified as B\");"
   ]
  },
  {
   "cell_type": "code",
   "execution_count": 17,
   "metadata": {},
   "outputs": [],
   "source": [
    "#define nueral network class\n",
    "class NeuralNetwork:\n",
    "    \n",
    "    def __init__(self, p_training, t_training, learning_rate, hidden_layer_neurons ):\n",
    "        self.P = p_training;\n",
    "        self.T = t_training;\n",
    "        self.alfa = learning_rate;\n",
    "    \n",
    "        self.Errors = np.array([]);\n",
    "        self.hidden_layer_neurons = hidden_layer_neurons;\n",
    "        self.initW();\n",
    "        self.initBias();\n",
    "        \n",
    "        self.hidden_a = np.zeros(2);\n",
    "        self.output_a = 0;\n",
    "    \n",
    "    def initW(self):\n",
    "        \"\"\"Initialize hidden layer neuron weights\"\"\"\n",
    "        self.hidden_W = np.random.rand(self.hidden_layer_neurons,len(self.P[0]));\n",
    "        print(\"hidden layer W:\", str(self.hidden_W));\n",
    "        \n",
    "        \"\"\"Initialize output layer neuron weights\"\"\"\n",
    "        self.output_W = np.random.rand(self.hidden_layer_neurons);\n",
    "        print(\"output layer W:\", str(self.output_W));\n",
    "        \n",
    "    def initBias(self):\n",
    "        \"\"\"Initialize hidden layer neuron bias\"\"\"\n",
    "        self.hidden_bias = np.random.rand(self.hidden_layer_neurons);\n",
    "        print(\"hidden layer bias:\", self.hidden_bias);\n",
    "        \n",
    "        \"\"\"Initialize output layer neuron bias\"\"\"\n",
    "        self.output_bias = np.random.rand(1);\n",
    "        print(\"output layer bias:\", self.output_bias);\n",
    "        \n",
    "        \n",
    "    def trainBackpropagationRule(self, max_epoch, target_error):\n",
    "        iterations = 0;\n",
    "        self.max_epoch = max_epoch;\n",
    "        \n",
    "        #self.plotTrainingSet();\n",
    "        #self.plotDecisionBoundary('red','initial boundary');\n",
    "        avg_error = 10;\n",
    "        while((iterations < self.max_epoch) and (abs(avg_error) > target_error)):\n",
    "            #print(\"Iteration------------------\", iterations);\n",
    "            avg_error = 0;\n",
    "            for index in range(len(self.P)):\n",
    "                #print(\"input:\", str(self.P[index]));\n",
    "                #print(\"weight:\", self.W);\n",
    "                #print(\"dotProduct:\", np.dot(self.P[index],self.W));\n",
    "                \n",
    "                #compute hidden layer outputs \n",
    "                \n",
    "                #print(\"hidden layer a1:\",self.hidden_a[0]);\n",
    "                #print(\"hidden layer W1:\",self.hidden_W[0]);\n",
    "                #print(\"hidden layer bias1:\",self.hidden_bias[0]);\n",
    "                res = self.sigmoid(np.dot(self.P[index],self.hidden_W[0]) + self.hidden_bias[0]);\n",
    "                #print(\"hidden layer res:\",res);\n",
    "                self.hidden_a[0] = res;\n",
    "                \n",
    "                #print(\"hidden layer a2:\",self.hidden_a[1]);\n",
    "                #print(\"hidden layer W2:\",self.hidden_W[1]);\n",
    "                #print(\"hidden layer bias2:\",self.hidden_bias[1]);\n",
    "                res = self.sigmoid(np.dot(self.P[index],self.hidden_W[1]) + self.hidden_bias[1]);\n",
    "                #print(\"hidden layer res:\",res);\n",
    "                self.hidden_a[1] = res;\n",
    "                \n",
    "                #print(\"hidden layer a:\",self.hidden_a);\n",
    "                \n",
    "                #compute output layer output \n",
    "                #print(\"output layer W2:\",self.output_W);\n",
    "                #print(\"output layer bias:\",self.output_bias);\n",
    "                self.output_a = self.sigmoid(np.dot(self.hidden_a,self.output_W) + self.output_bias);\n",
    "                #print(\"output layer a:\",self.output_a);\n",
    "                \n",
    "                #compute the error\n",
    "                self.error = self.T[index] - self.output_a;\n",
    "                \n",
    "                avg_error = avg_error + self.error**2;\n",
    "                #print(\"error: \", self.error);\n",
    "                \n",
    "                #back propagation of sensitivities.\n",
    "                \n",
    "                #sensitivity of second layer\n",
    "                self.s2 = -2 * self.sigmoid_derivate(self.output_a) * self.error;\n",
    "                #print(\"sensitivity 2: \", self.s2);\n",
    "                \n",
    "                #sensitivity of first layer\n",
    "                F = np.identity(2);\n",
    "                F[0,0] = self.sigmoid_derivate(self.hidden_a[0]);\n",
    "                F[1,1] = self.sigmoid_derivate(self.hidden_a[1]);\n",
    "                #print(\"F \", F);\n",
    "                self.s1 = np.matmul(F, self.output_W.T) *  self.s2;\n",
    "                #print(\"sensitivity 1: \", self.s1);\n",
    "                \n",
    "                #update output layer weights.\n",
    "                #print(\"output_W: \",self.output_W);\n",
    "                #print(\"hidden_a:\", self.hidden_a);\n",
    "                #print(\"before substraction:\", (self.alfa * self.s2 * self.hidden_a) );\n",
    "                self.output_W = self.output_W - (self.alfa * self.s2 * self.hidden_a);\n",
    "                #print(\"new output W:\", self.output_W);\n",
    "                \n",
    "                #update output bias \n",
    "                self.output_bias = self.output_bias - (self.alfa * self.s2);\n",
    "                #print(\"new output bias:\", self.output_bias);\n",
    "                \n",
    "                #update hidden layer weights.\n",
    "                #print(\"hidden_W: \",self.hidden_W);\n",
    "                #print(\"hidden_a:\", self.hidden_a);\n",
    "                #print(\"before substraction:\", (self.alfa * self.s1 * self.P[index]) );\n",
    "                self.hidden_W = self.hidden_W - (self.alfa * self.s1 * self.P[index]);\n",
    "                #print(\"new output W:\", self.hidden_W);\n",
    "                \n",
    "                \n",
    "                #update hidden bias \n",
    "                #print(\"hidden bias:\", self.hidden_bias);\n",
    "                #print(\"hidden bias:\", (self.alfa * self.s1));\n",
    "                self.hidden_bias = self.hidden_bias - (self.alfa * self.s1.T);\n",
    "                #print(\"new hidden bias:\", self.hidden_bias);\n",
    "                \n",
    "                \n",
    "            iterations = iterations + 1;\n",
    "            avg_error = avg_error / len(self.P);\n",
    "            self.Errors = np.concatenate((self.Errors,avg_error),axis=0);\n",
    "            \n",
    "        \n",
    "        #self.plotDecisionBoundary('green','final boundary');\n",
    "        #plt.legend(loc=\"upper right\");\n",
    "        \n",
    "        print(\"hidden layer W: \",self.hidden_W);\n",
    "        print(\"hidden layer bias:\", self.hidden_bias);\n",
    "        print(\"output layer W: \",self.output_W);\n",
    "        print(\"output layer bias:\", self.output_bias);\n",
    "        print(\"Epochs:\", iterations);\n",
    "    \n",
    "    \n",
    "    \n",
    "    def sigmoid(self, x):\n",
    "        return 1/(1 + np.exp(-x));\n",
    "    \n",
    "    def sigmoid_derivate(self,out):\n",
    "        return out * (1 - out);\n",
    "        \n",
    "    def evaluate(self, new_p):\n",
    "        a = np.zeros(2);\n",
    "        a[0] = self.sigmoid(np.dot(new_p,self.hidden_W[0]) + self.hidden_bias[0]);\n",
    "        a[1] = self.sigmoid(np.dot(new_p,self.hidden_W[1]) + self.hidden_bias[1]);\n",
    "        \n",
    "        return self.sigmoid(np.dot(a,self.output_W) + self.output_bias);\n",
    "    \n",
    "    def hiddenLayerTransformation(self):\n",
    "        a = np.zeros(2);\n",
    "        for indx in range(len(self.P)):\n",
    "            a[0] = self.sigmoid(np.dot(self.P[indx],self.hidden_W[0]) + self.hidden_bias[0]);\n",
    "            a[1] = self.sigmoid(np.dot(self.P[indx],self.hidden_W[1]) + self.hidden_bias[1]);\n",
    "            print(\"P: \", self.P[indx], \"-> a:\", a);\n",
    "            if self.T[indx] == 1:\n",
    "                plt.plot(a[0],a[1], 's', color='black', label='A');\n",
    "            else:\n",
    "                plt.plot(a[0],a[1], '^', color='red', label='B');\n",
    "        #self.plotDecisionBoundary(\"blue\",\"Boundary\");\n",
    "    \n",
    "    def plotDecisionBoundary(self, color, label):\n",
    "        print('bias:',self.output_bias);\n",
    "        print('W:',self.output_W);\n",
    "        #plt.xlim([-1.0, 2]);\n",
    "        #plt.ylim([-1.0, 2]);\n",
    "        \n",
    "        x = np.linspace(-1, 2, num=50);\n",
    "        y = - (self.output_bias / self.output_W[1]) - ((x * self.output_W[0]) / self.output_W[1]);\n",
    "        plt.plot(x, y, color=color, label=label);\n",
    "    \n",
    "    def plotTrainingSet(self):\n",
    "        \n",
    "        plt.plot(perc.P[0:3,0],perc.P[0:3,1], 's', color='black', label='A');\n",
    "        plt.plot(perc.P[3:7,0],perc.P[3:7,1], '^', color='black', label='B');\n",
    "    \n",
    "    def plotErrors(self):\n",
    "        \n",
    "        plt.plot(self.Errors, label='Error');\n",
    "        print(\"Last error:\", self.Errors[-1]);\n",
    "        "
   ]
  },
  {
   "cell_type": "code",
   "execution_count": 27,
   "metadata": {},
   "outputs": [
    {
     "name": "stdout",
     "output_type": "stream",
     "text": [
      "hidden layer W: [[0.77362168 0.64492063]\n",
      " [0.81874514 0.73225489]]\n",
      "output layer W: [0.90491111 0.73682765]\n",
      "hidden layer bias: [0.03818778 0.00758317]\n",
      "output layer bias: [0.56386546]\n"
     ]
    }
   ],
   "source": [
    "#create neural network object\n",
    "neural_network = NeuralNetwork(p,t, 0.003, 2);"
   ]
  },
  {
   "cell_type": "code",
   "execution_count": 33,
   "metadata": {},
   "outputs": [
    {
     "name": "stdout",
     "output_type": "stream",
     "text": [
      "hidden layer W:  [[0.77177795 0.59001155]\n",
      " [0.81690142 0.67734582]]\n",
      "hidden layer bias: [-6.52595401  0.01498647]\n",
      "output layer W:  [-10.83293159   3.62681272]\n",
      "output layer bias: [5.46099006]\n",
      "Epochs: 500000\n"
     ]
    }
   ],
   "source": [
    "#train network using backpropagation rule, max epoch 250,000\n",
    "neural_network.trainBackpropagationRule(500000,0.03);"
   ]
  },
  {
   "cell_type": "code",
   "execution_count": 39,
   "metadata": {},
   "outputs": [
    {
     "name": "stdout",
     "output_type": "stream",
     "text": [
      "input:  [3 7] output:  [0.97989844]\n",
      "Classified as A\n"
     ]
    }
   ],
   "source": [
    "#evaluate new coordenate (3,7)\n",
    "new_p = np.array([3,7])\n",
    "res = neural_network.evaluate(new_p);\n",
    "translatePerceptronOutput(new_p,res);"
   ]
  },
  {
   "cell_type": "code",
   "execution_count": 35,
   "metadata": {},
   "outputs": [
    {
     "name": "stdout",
     "output_type": "stream",
     "text": [
      "input:  [6 8] output:  [0.24257372]\n",
      "Classified as B\n"
     ]
    }
   ],
   "source": [
    "#evaluate new coordenate (6,8)\n",
    "new_p = np.array([6,8])\n",
    "res = neural_network.evaluate(new_p);\n",
    "translatePerceptronOutput(new_p,res);"
   ]
  },
  {
   "cell_type": "code",
   "execution_count": 36,
   "metadata": {},
   "outputs": [
    {
     "name": "stdout",
     "output_type": "stream",
     "text": [
      "Last error: 0.13503665172764692\n"
     ]
    },
    {
     "data": {
      "image/png": "[encoded data removed]",
      "text/plain": [
       "<Figure size 432x288 with 1 Axes>"
      ]
     },
     "metadata": {},
     "output_type": "display_data"
    }
   ],
   "source": [
    "neural_network.plotErrors();"
   ]
  },
  {
   "cell_type": "code",
   "execution_count": 37,
   "metadata": {},
   "outputs": [
    {
     "name": "stdout",
     "output_type": "stream",
     "text": [
      "P:  [2. 7.] -> a: [0.29894699 0.99832491]\n",
      "P:  [3. 9.] -> a: [0.75016338 0.99980876]\n",
      "P:  [4. 4.] -> a: [0.25373393 0.9975075 ]\n",
      "P:  [ 6. 11.] -> a: [0.98999724 0.99999574]\n",
      "P:  [7. 4.] -> a: [0.77496081 0.99978457]\n",
      "P:  [5. 7.] -> a: [0.81199363 0.99985533]\n",
      "P:  [8. 9.] -> a: [0.99302465 0.99999678]\n",
      "P:  [8. 6.] -> a: [0.96039308 0.99997544]\n",
      "P:  [10.  9.] -> a: [0.99850171 0.99999937]\n",
      "P:  [10.  6.] -> a: [0.99126717 0.99999521]\n"
     ]
    },
    {
     "data": {
      "image/png": "[encoded data removed]",
      "text/plain": [
       "<Figure size 432x288 with 1 Axes>"
      ]
     },
     "metadata": {},
     "output_type": "display_data"
    }
   ],
   "source": [
    "neural_network.hiddenLayerTransformation();"
   ]
  },
  {
   "cell_type": "markdown",
   "metadata": {},
   "source": [
    "important notes:\n",
    "* initialization of weights and bias with random values don´t affect to find a solution\n",
    "* epoch can help to reduce erros.\n",
    "* learning rate affects learning speed so the smaller the more epochs need to have a good estimate.\n",
    "* solution could be different based on initial values and for that reason new inputs could be classified different.\n",
    "* learning rate alters the speed of the training process "
   ]
  },
  {
   "cell_type": "code",
   "execution_count": null,
   "metadata": {},
   "outputs": [],
   "source": []
  }
 ],
 "metadata": {
  "kernelspec": {
   "display_name": "Python 3",
   "language": "python",
   "name": "python3"
  },
  "language_info": {
   "codemirror_mode": {
    "name": "ipython",
    "version": 3
   },
   "file_extension": ".py",
   "mimetype": "text/x-python",
   "name": "python",
   "nbconvert_exporter": "python",
   "pygments_lexer": "ipython3",
   "version": "3.8.5"
  }
 },
 "nbformat": 4,
 "nbformat_minor": 4
}
