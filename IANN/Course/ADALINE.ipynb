{
 "cells": [
  {
   "cell_type": "markdown",
   "metadata": {},
   "source": [
    "Given the following patterns\n",
    "\n",
    "$$P_1, t_1 = (2,6) , A $$\n",
    "$$P_2, t_2 = (4,4) , A $$\n",
    "$$P_3, t_3 = (6,3) , A $$\n",
    "$$P_4, t_4 = (4,10) , B $$\n",
    "$$P_5, t_5 = (7,10) , B $$\n",
    "$$P_6, t_6 = (9,8) , B $$\n",
    "\n",
    "Train a ADALINE using the delta rule"
   ]
  },
  {
   "cell_type": "code",
   "execution_count": 31,
   "metadata": {},
   "outputs": [],
   "source": [
    "%matplotlib inline\n",
    "import matplotlib.pyplot as plt\n",
    "plt.style.use('seaborn-whitegrid')"
   ]
  },
  {
   "cell_type": "code",
   "execution_count": 32,
   "metadata": {},
   "outputs": [
    {
     "name": "stdout",
     "output_type": "stream",
     "text": [
      "p: [[ 2.  6.]\n",
      " [ 4.  4.]\n",
      " [ 6.  3.]\n",
      " [ 4. 10.]\n",
      " [ 7. 10.]\n",
      " [ 9.  8.]]\n"
     ]
    }
   ],
   "source": [
    "import numpy as np\n",
    "\n",
    "#create input vector \n",
    "def createInputVector():\n",
    "    p[0] = [2,6];\n",
    "    p[1] = [4,4];\n",
    "    p[2] = [6,3];\n",
    "    p[3] = [4,10];\n",
    "    p[4] = [7,10];\n",
    "    p[5] = [9,8];\n",
    "    print(\"p:\",str(p));\n",
    "    \n",
    "p = np.zeros((6,2));\n",
    "createInputVector();"
   ]
  },
  {
   "cell_type": "code",
   "execution_count": 33,
   "metadata": {},
   "outputs": [
    {
     "name": "stdout",
     "output_type": "stream",
     "text": [
      "t: [ 1.  1.  1. -1. -1. -1.]\n"
     ]
    }
   ],
   "source": [
    "#create target vector A = 1 and B = 1 \n",
    "def createTargetVector():\n",
    "    t[0] = 1;\n",
    "    t[1] = 1;\n",
    "    t[2] = 1;\n",
    "    t[3] = -1;\n",
    "    t[4] = -1;\n",
    "    t[5] = -1;\n",
    "    print(\"t:\",str(t));\n",
    "    \n",
    "t = np.zeros(6);\n",
    "createTargetVector();"
   ]
  },
  {
   "cell_type": "code",
   "execution_count": 34,
   "metadata": {},
   "outputs": [],
   "source": [
    "# translate ADALINE output\n",
    "def translatePerceptronOutput(p, output):\n",
    "    print(\"input: \", str(p), \"output: \", str(output));\n",
    "    if output > 0: \n",
    "        print(\"Classified as A\");\n",
    "    else:\n",
    "        print(\"Classified as B\");"
   ]
  },
  {
   "cell_type": "code",
   "execution_count": 35,
   "metadata": {},
   "outputs": [],
   "source": [
    "#define ADALINE class\n",
    "class ADALINE:\n",
    "    \n",
    "    def __init__(self, p_training, t_training, learning_rate ):\n",
    "        self.P = p_training;\n",
    "        self.T = t_training;\n",
    "        self.alfa = learning_rate;\n",
    "    \n",
    "        self.E = np.ones(len(self.P));\n",
    "        self.Errors = np.array([]);\n",
    "        \n",
    "        self.initW();\n",
    "        self.initBias();\n",
    "    \n",
    "    def initW(self):\n",
    "        \"\"\"Initialize ADALINE weights\"\"\"\n",
    "        self.W = np.random.rand(len(self.P[0]));\n",
    "        print(\"initial W:\", str(self.W));\n",
    "        \n",
    "    def initBias(self):\n",
    "        \"\"\"Initialize ADALINE bias\"\"\"\n",
    "        self.bias = np.random.randint(2);\n",
    "        print(\"initial bias:\", self.bias);\n",
    "        \n",
    "        \n",
    "    def trainDeltaLearningRule(self, max_epoch):\n",
    "        iterations = 0;\n",
    "        self.max_epoch = max_epoch;\n",
    "        \n",
    "        self.plotTrainingSet();\n",
    "        self.plotDecisionBoundary('red','initial boundary');\n",
    "        \n",
    "        while((iterations < self.max_epoch)):\n",
    "            #print(\"Iteration------------------\", iterations);\n",
    "            MSE = 0;\n",
    "            for index in range(len(self.P)):\n",
    "                #print(\"input:\", str(self.P[index]));\n",
    "                #print(\"weight:\", self.W);\n",
    "                #print(\"dotProduct:\", np.dot(self.P[index],self.W));\n",
    "                \n",
    "                #network output\n",
    "                a = self.purelin(np.dot(self.P[index],self.W) + self.bias);\n",
    "                #print(\"a:\",a);\n",
    "                \n",
    "                #input error\n",
    "                self.E[index] = self.T[index] - a;\n",
    "                MSE = MSE + self.E[index]**2;\n",
    "                #print(\"E:\", self.E[index]);\n",
    "                \n",
    "                #Perceptron learning rule\n",
    "                self.W = self.W + self.alfa * (self.E[index] * self.P[index]);\n",
    "                self.bias = self.bias + (self.alfa * self.E[index]);\n",
    "                #print(\"new weight:\", self.W);\n",
    "                #print(\"new bias:\", self.bias);\n",
    "                \n",
    "            iterations = iterations + 1;\n",
    "            MSE = MSE / len(self.P);\n",
    "            self.Errors = np.concatenate((self.Errors,[MSE]),axis=0);\n",
    "        \n",
    "        print('final bias:',self.bias);\n",
    "        print('final W:',self.W);\n",
    "        self.plotDecisionBoundary('green','final boundary');\n",
    "        plt.legend(loc=\"upper right\");\n",
    "        print(\"Epochs:\", iterations);\n",
    "    \n",
    "    def purelin(self, x):\n",
    "        return x;\n",
    "        \n",
    "    def evaluate(self, new_p):\n",
    "        return self.purelin(np.dot(new_p,self.W) + self.bias);\n",
    "    \n",
    "    def plotDecisionBoundary(self, color, label):\n",
    "        \n",
    "        plt.xlim([-1.0, 20.0]);\n",
    "        plt.ylim([-1.0, 20.0]);\n",
    "        \n",
    "        x = np.linspace(-1, 20);\n",
    "        y = - (self.bias / self.W[1]) - ((x * self.W[0]) / self.W[1]);\n",
    "        plt.plot(x, y, color=color, label=label);\n",
    "    \n",
    "    def plotTrainingSet(self):\n",
    "        plt.plot(self.P[0:3,0],self.P[0:3,1], 's', color='black', label='A');\n",
    "        plt.plot(self.P[3:7,0],self.P[3:7,1], '^', color='black', label='B');\n",
    "        \n",
    "    def plotErrors(self):\n",
    "        plt.plot(self.Errors, label='Error');\n",
    "        print(\"Last error:\", self.Errors[-1]);"
   ]
  },
  {
   "cell_type": "code",
   "execution_count": 36,
   "metadata": {},
   "outputs": [
    {
     "name": "stdout",
     "output_type": "stream",
     "text": [
      "initial W: [0.34400891 0.7208245 ]\n",
      "initial bias: 0\n"
     ]
    }
   ],
   "source": [
    "#create ADALINE object\n",
    "ada = ADALINE(p,t, 0.0015);"
   ]
  },
  {
   "cell_type": "code",
   "execution_count": 37,
   "metadata": {},
   "outputs": [
    {
     "name": "stdout",
     "output_type": "stream",
     "text": [
      "final bias: 2.878055725073492\n",
      "final W: [-0.16262313 -0.29492295]\n",
      "Epochs: 5000\n"
     ]
    },
    {
     "data": {
      "image/png": "[encoded data removed]",
      "text/plain": [
       "<Figure size 432x288 with 1 Axes>"
      ]
     },
     "metadata": {},
     "output_type": "display_data"
    }
   ],
   "source": [
    "#train ADALINE using Delta rule, max epoch 50,000\n",
    "ada.trainDeltaLearningRule(5000);"
   ]
  },
  {
   "cell_type": "code",
   "execution_count": 38,
   "metadata": {},
   "outputs": [
    {
     "name": "stdout",
     "output_type": "stream",
     "text": [
      "input:  [5 5] output:  0.590325317348134\n",
      "Classified as A\n"
     ]
    }
   ],
   "source": [
    "#evaluate new coordenate (5,5)\n",
    "new_p = np.array([5,5])\n",
    "res = ada.evaluate(new_p);\n",
    "translatePerceptronOutput(new_p,res);"
   ]
  },
  {
   "cell_type": "code",
   "execution_count": 39,
   "metadata": {},
   "outputs": [
    {
     "name": "stdout",
     "output_type": "stream",
     "text": [
      "input:  [6 8] output:  -0.45706666278709074\n",
      "Classified as B\n"
     ]
    }
   ],
   "source": [
    "#evaluate new coordenate (6,8)\n",
    "new_p = np.array([6,8])\n",
    "res = ada.evaluate(new_p);\n",
    "translatePerceptronOutput(new_p,res);"
   ]
  },
  {
   "cell_type": "code",
   "execution_count": 40,
   "metadata": {},
   "outputs": [
    {
     "name": "stdout",
     "output_type": "stream",
     "text": [
      "Last error: 0.03418671929233163\n"
     ]
    },
    {
     "data": {
      "image/png": "[encoded data removed]",
      "text/plain": [
       "<Figure size 432x288 with 1 Axes>"
      ]
     },
     "metadata": {},
     "output_type": "display_data"
    }
   ],
   "source": [
    "ada.plotErrors();"
   ]
  },
  {
   "cell_type": "markdown",
   "metadata": {},
   "source": [
    "important notes:\n",
    "* initialization of weights and bias with random values don´t affect to find a solution\n",
    "* epoch can help to reduce erros.\n",
    "* learning rate affects learning speed so the smaller the more epochs need to have a good estimate.\n",
    "* solution could be different based on initial values and for that reason new inputs could be classified different.\n",
    "* learning rate alters the speed of the training process \n",
    "* It is highly importat to have target values as positive and nevative otherwise network wont converge."
   ]
  }
 ],
 "metadata": {
  "kernelspec": {
   "display_name": "Python 3",
   "language": "python",
   "name": "python3"
  },
  "language_info": {
   "codemirror_mode": {
    "name": "ipython",
    "version": 3
   },
   "file_extension": ".py",
   "mimetype": "text/x-python",
   "name": "python",
   "nbconvert_exporter": "python",
   "pygments_lexer": "ipython3",
   "version": "3.8.5"
  }
 },
 "nbformat": 4,
 "nbformat_minor": 4
}
